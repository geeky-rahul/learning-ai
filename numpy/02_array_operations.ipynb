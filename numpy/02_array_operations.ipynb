{
 "cells": [
  {
   "cell_type": "markdown",
   "id": "8421341c",
   "metadata": {},
   "source": [
    "## Numpy Array Operations"
   ]
  },
  {
   "cell_type": "code",
   "execution_count": 1,
   "id": "c4fd2e7a",
   "metadata": {},
   "outputs": [],
   "source": [
    "import numpy as np"
   ]
  },
  {
   "cell_type": "code",
   "execution_count": 5,
   "id": "c13bce9a",
   "metadata": {},
   "outputs": [
    {
     "name": "stdout",
     "output_type": "stream",
     "text": [
      "Basic Slicing:  [3 4 5 6 7]\n",
      "Basic Slicing with step:  [2 4 6 8]\n",
      "Negative indexing:  8\n"
     ]
    }
   ],
   "source": [
    "arr = np.array([1,2,3,4,5,6,7,8,9,10])\n",
    "print(\"Basic Slicing: \", arr[2:7])\n",
    "print(\"Basic Slicing with step: \", arr[1:8:2])\n",
    "print(\"Negative indexing: \", arr[-3])"
   ]
  },
  {
   "cell_type": "code",
   "execution_count": 7,
   "id": "ae9e5e40",
   "metadata": {},
   "outputs": [
    {
     "name": "stdout",
     "output_type": "stream",
     "text": [
      "Specific Element:  6\n",
      "Entire Row:  [4 5 6]\n",
      "Entire Column:  [2 5 8]\n"
     ]
    }
   ],
   "source": [
    "arr_2D = np.array([[1,2,3],\n",
    "                   [4,5,6],\n",
    "                   [7,8,9]])\n",
    "print(\"Specific Element: \", arr_2D[1,2])\n",
    "print(\"Entire Row: \", arr_2D[1])\n",
    "print(\"Entire Column: \", arr_2D[:, 1])"
   ]
  },
  {
   "cell_type": "markdown",
   "id": "f2374646",
   "metadata": {},
   "source": [
    "### Sorting"
   ]
  },
  {
   "cell_type": "code",
   "execution_count": 11,
   "id": "61476e94",
   "metadata": {},
   "outputs": [
    {
     "name": "stdout",
     "output_type": "stream",
     "text": [
      "Sorted Array:  [1 2 3 4 4 5 6 9]\n",
      "Sorted 2D array by column: \n",
      " [[ 2  5  1]\n",
      " [ 3  5  4]\n",
      " [ 9  6 10]]\n",
      "Sorted 2D array by Row: \n",
      " [[ 1  2  5]\n",
      " [ 3  4  6]\n",
      " [ 5  9 10]]\n"
     ]
    }
   ],
   "source": [
    "unsorted_arr = np.array([3,1,5,4,2,6,9,4])\n",
    "print(\"Sorted Array: \", np.sort(unsorted_arr))\n",
    "\n",
    "unsorted_arr_2D = np.array([[2,5,1],\n",
    "                            [3,6,4],\n",
    "                            [9,5,10]])\n",
    "print(\"Sorted 2D array by column: \\n\", np.sort(unsorted_arr_2D, axis=0))\n",
    "print(\"Sorted 2D array by Row: \\n\", np.sort(unsorted_arr_2D, axis=1))"
   ]
  },
  {
   "cell_type": "markdown",
   "id": "9e072a31",
   "metadata": {},
   "source": [
    "### Filtering"
   ]
  },
  {
   "cell_type": "code",
   "execution_count": 12,
   "id": "73494fc8",
   "metadata": {},
   "outputs": [
    {
     "name": "stdout",
     "output_type": "stream",
     "text": [
      "Even Numbers:  [ 2  4  6  8 10]\n"
     ]
    }
   ],
   "source": [
    "numbers = np.array([1,2,3,4,5,6,7,8,9,10])\n",
    "even_numbers = numbers[numbers%2 == 0]\n",
    "print(\"Even Numbers: \", even_numbers)"
   ]
  },
  {
   "cell_type": "markdown",
   "id": "a14ee54c",
   "metadata": {},
   "source": [
    "### Filter with Mask"
   ]
  },
  {
   "cell_type": "code",
   "execution_count": 13,
   "id": "1c32f93c",
   "metadata": {},
   "outputs": [
    {
     "name": "stdout",
     "output_type": "stream",
     "text": [
      "Numbers Greater than 5:  [ 6  7  8  9 10]\n"
     ]
    }
   ],
   "source": [
    "mask = numbers > 5\n",
    "print(\"Numbers Greater than 5: \", numbers[mask])"
   ]
  },
  {
   "cell_type": "markdown",
   "id": "de0da4cf",
   "metadata": {},
   "source": [
    "### Fancy Indexing vs np.where()"
   ]
  },
  {
   "cell_type": "code",
   "execution_count": 18,
   "id": "7d26f725",
   "metadata": {},
   "outputs": [
    {
     "name": "stdout",
     "output_type": "stream",
     "text": [
      "[1 3 5]\n",
      "Np where:  [ 6  7  8  9 10]\n"
     ]
    }
   ],
   "source": [
    "indices =  [0,2,4]\n",
    "print(numbers[indices])\n",
    "\n",
    "where_result = np.where(numbers > 5)\n",
    "print(\"Np where: \", numbers[where_result])"
   ]
  },
  {
   "cell_type": "code",
   "execution_count": null,
   "id": "065839c3",
   "metadata": {},
   "outputs": [
    {
     "name": "stdout",
     "output_type": "stream",
     "text": [
      "[False False False False False  True  True  True  True  True]\n"
     ]
    }
   ],
   "source": [
    "condition_array = np.where(numbers > 5, True, False) # numbers > 5’ is a condition that returns True if it is satisfied, and False if it is not\n",
    "print(condition_array)"
   ]
  },
  {
   "cell_type": "markdown",
   "id": "546828ce",
   "metadata": {},
   "source": [
    "### Adding and Removing Data"
   ]
  },
  {
   "cell_type": "code",
   "execution_count": 22,
   "id": "644eeaa0",
   "metadata": {},
   "outputs": [
    {
     "name": "stdout",
     "output_type": "stream",
     "text": [
      "[1 2 3 4 5 6]\n"
     ]
    }
   ],
   "source": [
    "arr1 = np.array([1,2,3])\n",
    "arr2 = np.array([4,5,6])\n",
    "\n",
    "combined_arr = np.concatenate((arr1, arr2))\n",
    "print(combined_arr)"
   ]
  },
  {
   "cell_type": "markdown",
   "id": "1d33e674",
   "metadata": {},
   "source": [
    "### Array Compatibility"
   ]
  },
  {
   "cell_type": "code",
   "execution_count": 25,
   "id": "77c9737e",
   "metadata": {},
   "outputs": [
    {
     "name": "stdout",
     "output_type": "stream",
     "text": [
      "Compatibility Shape:  True\n",
      "Compatibility Shape:  False\n"
     ]
    }
   ],
   "source": [
    "a = np.array([1,2,3])\n",
    "b = np.array([4,5,6,7])\n",
    "c = np.array([7,8,9])\n",
    "\n",
    "print(\"Compatibility Shape: \", a.shape == c.shape)\n",
    "print(\"Compatibility Shape: \", a.shape == b.shape)"
   ]
  },
  {
   "cell_type": "code",
   "execution_count": 28,
   "id": "bab21788",
   "metadata": {},
   "outputs": [
    {
     "name": "stdout",
     "output_type": "stream",
     "text": [
      "original: \n",
      " [[1 2]\n",
      " [3 4]]\n",
      "with new row: \n",
      " [[1 2]\n",
      " [3 4]\n",
      " [5 6]]\n",
      "original: \n",
      " [[1 2]\n",
      " [3 4]]\n",
      "with new col: \n",
      " [[1 2 7]\n",
      " [3 4 8]]\n"
     ]
    }
   ],
   "source": [
    "original = np.array([[1,2],[3,4]])\n",
    "new_row = np.array([[5,6]])\n",
    "\n",
    "with_new_row = np.vstack((original, new_row)) # Vstack used for adding row\n",
    "print(\"original: \\n\", original)\n",
    "print(\"with new row: \\n\", with_new_row)\n",
    "\n",
    "new_col = np.array([[7],[8]])\n",
    "with_new_col = np.hstack((original, new_col))\n",
    "print(\"original: \\n\", original)\n",
    "print(\"with new col: \\n\", with_new_col)"
   ]
  },
  {
   "cell_type": "code",
   "execution_count": 29,
   "id": "5f3aa774",
   "metadata": {},
   "outputs": [
    {
     "name": "stdout",
     "output_type": "stream",
     "text": [
      "Array after deletion:  [1 2 4 5]\n"
     ]
    }
   ],
   "source": [
    "arr =  np.array([1,2,3,4,5])\n",
    "delelted = np.delete(arr, 2)\n",
    "print(\"Array after deletion: \", delelted)"
   ]
  }
 ],
 "metadata": {
  "kernelspec": {
   "display_name": ".venv",
   "language": "python",
   "name": "python3"
  },
  "language_info": {
   "codemirror_mode": {
    "name": "ipython",
    "version": 3
   },
   "file_extension": ".py",
   "mimetype": "text/x-python",
   "name": "python",
   "nbconvert_exporter": "python",
   "pygments_lexer": "ipython3",
   "version": "3.13.5"
  }
 },
 "nbformat": 4,
 "nbformat_minor": 5
}
