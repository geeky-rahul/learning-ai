{
 "cells": [
  {
   "cell_type": "code",
   "execution_count": 1,
   "id": "0496dad3",
   "metadata": {},
   "outputs": [],
   "source": [
    "import numpy as np\n",
    "import matplotlib.pyplot as plt"
   ]
  },
  {
   "cell_type": "code",
   "execution_count": 3,
   "id": "e8abaaa5",
   "metadata": {},
   "outputs": [
    {
     "name": "stdout",
     "output_type": "stream",
     "text": [
      "=== Zomato sales analysis ===\n",
      "\n",
      "Sales data Shape:  (5, 5)\n",
      "Sample data for 1st 3 resturents: \n",
      " [[     1 150000 180000 220000 250000]\n",
      " [     2 120000 140000 160000 190000]\n",
      " [     3 200000 230000 260000 300000]]\n"
     ]
    }
   ],
   "source": [
    "# Data structure: [restaurant_id, 2021, 2022, 2023, 2024]\n",
    "sales_data = np.array([\n",
    "    [1, 150000, 180000, 220000, 250000],  # Paradise Biryani\n",
    "    [2, 120000, 140000, 160000, 190000],  # Beijing Bites\n",
    "    [3, 200000, 230000, 260000, 300000],  # Pizza Hub\n",
    "    [4, 180000, 210000, 240000, 270000],  # Burger Point\n",
    "    [5, 160000, 185000, 205000, 230000]   # Chai Point\n",
    "])\n",
    "print(\"=== Zomato sales analysis ===\")\n",
    "print(\"\\nSales data Shape: \", sales_data.shape)\n",
    "print(\"Sample data for 1st 3 resturents: \\n\", sales_data[:3])"
   ]
  },
  {
   "cell_type": "code",
   "execution_count": 8,
   "id": "3e71e6b2",
   "metadata": {},
   "outputs": [
    {
     "name": "stdout",
     "output_type": "stream",
     "text": [
      "Total sales:  [     15  810000  945000 1085000 1240000]\n",
      "Yearly Total:  [ 810000  945000 1085000 1240000]\n",
      "Minimun Sales:  [120000 140000 160000 190000]\n",
      "Maximun Sales:  [200000 230000 260000 300000]\n",
      "Average Sales:  [200000. 152500. 247500. 225000. 195000.]\n"
     ]
    }
   ],
   "source": [
    "# Total sales per year\n",
    "print(\"Total sales: \",np.sum(sales_data, axis = 0))\n",
    "\n",
    "yearly_total = np.sum(sales_data[:, 1:], axis = 0)\n",
    "print(\"Yearly Total: \",yearly_total)\n",
    "\n",
    "# Minimum sales per resturents\n",
    "min_sales = np.min(sales_data[:, 1:], axis=0)\n",
    "print(\"Minimun Sales: \",min_sales)\n",
    "\n",
    "# Maximum sales per year\n",
    "max_sales = np.max(sales_data[:,1:],axis=0)\n",
    "print(\"Maximun Sales: \",max_sales)\n",
    "\n",
    "# Average sales per resturents\n",
    "avg_sales = np.mean(sales_data[:, 1:], axis = 1)\n",
    "print(\"Average Sales: \",avg_sales)"
   ]
  },
  {
   "cell_type": "code",
   "execution_count": 16,
   "id": "49b11c30",
   "metadata": {},
   "outputs": [
    {
     "name": "stdout",
     "output_type": "stream",
     "text": [
      "[[150000 330000 550000 800000]\n",
      " [120000 260000 420000 610000]\n",
      " [200000 430000 690000 990000]\n",
      " [180000 390000 630000 900000]\n",
      " [160000 345000 550000 780000]]\n"
     ]
    },
    {
     "data": {
      "image/png": "[encoded data removed]",
      "text/plain": [
       "<Figure size 400x200 with 1 Axes>"
      ]
     },
     "metadata": {},
     "output_type": "display_data"
    }
   ],
   "source": [
    "# Cumulative sum \n",
    "cumsum = np.cumsum(sales_data[:, 1:], axis = 1)\n",
    "print(cumsum)\n",
    "\n",
    "plt.figure(figsize=(4, 2))\n",
    "plt.plot(np.mean(cumsum, axis=0))\n",
    "plt.title(\"Average cumulative sales across all resturents \")\n",
    "plt.xlabel(\"Years\")\n",
    "plt.ylabel(\"Sales\")\n",
    "plt.grid(True)\n",
    "plt.show()"
   ]
  },
  {
   "cell_type": "code",
   "execution_count": 24,
   "id": "a8ba8b2e",
   "metadata": {},
   "outputs": [
    {
     "name": "stdout",
     "output_type": "stream",
     "text": [
      "Vector addition:  [ 7  9 11 13 15]\n",
      "Vector Multiplication:  [ 6 14 24 36 50]\n",
      "Dot Product:  130\n",
      "0.26554161733900966\n"
     ]
    }
   ],
   "source": [
    "vector1 = np.array([1,2,3,4,5])\n",
    "vector2 = np.array([6,7,8,9,10])\n",
    "\n",
    "print(\"Vector addition: \", vector1 + vector2)\n",
    "print(\"Vector Multiplication: \", vector1 * vector2)\n",
    "print(\"Dot Product: \", np.dot(vector1, vector2))\n",
    "\n",
    "angle = np.arccos(np.dot(vector1,vector2)/(np.linalg.norm(vector1) * np.linalg.norm(vector2)))\n",
    "print(angle)"
   ]
  },
  {
   "cell_type": "code",
   "execution_count": 26,
   "id": "aaa8ec7a",
   "metadata": {},
   "outputs": [
    {
     "name": "stdout",
     "output_type": "stream",
     "text": [
      "Vectorized Upper ['BIRYANI' 'CHINESE' 'PIZZA' 'BURGER' 'CAFE']\n"
     ]
    }
   ],
   "source": [
    "resturent_types = np.array(['biryani','chinese','pizza','burger', 'cafe'])\n",
    "vectorized_upper = np.vectorize(str.upper)\n",
    "print(\"Vectorized Upper\", vectorized_upper(resturent_types))"
   ]
  },
  {
   "cell_type": "code",
   "execution_count": 27,
   "id": "0a5ad650",
   "metadata": {},
   "outputs": [
    {
     "name": "stdout",
     "output_type": "stream",
     "text": [
      "[[12500.         15000.         18333.33333333 20833.33333333]\n",
      " [10000.         11666.66666667 13333.33333333 15833.33333333]\n",
      " [16666.66666667 19166.66666667 21666.66666667 25000.        ]\n",
      " [15000.         17500.         20000.         22500.        ]\n",
      " [13333.33333333 15416.66666667 17083.33333333 19166.66666667]]\n"
     ]
    }
   ],
   "source": [
    "monthly_avg = sales_data[:, 1:]/12\n",
    "print(monthly_avg)"
   ]
  }
 ],
 "metadata": {
  "kernelspec": {
   "display_name": ".venv",
   "language": "python",
   "name": "python3"
  },
  "language_info": {
   "codemirror_mode": {
    "name": "ipython",
    "version": 3
   },
   "file_extension": ".py",
   "mimetype": "text/x-python",
   "name": "python",
   "nbconvert_exporter": "python",
   "pygments_lexer": "ipython3",
   "version": "3.13.5"
  }
 },
 "nbformat": 4,
 "nbformat_minor": 5
}
