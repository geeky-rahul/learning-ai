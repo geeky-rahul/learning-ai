{
 "cells": [
  {
   "cell_type": "markdown",
   "id": "3f27b5fd",
   "metadata": {},
   "source": [
    "## Numpy Arrays and basics"
   ]
  },
  {
   "cell_type": "code",
   "execution_count": null,
   "id": "0e298435",
   "metadata": {},
   "outputs": [],
   "source": [
    "import numpy as np"
   ]
  }
 ],
 "metadata": {
  "kernelspec": {
   "display_name": ".venv",
   "language": "python",
   "name": "python3"
  },
  "language_info": {
   "name": "python",
   "version": "3.13.5"
  }
 },
 "nbformat": 4,
 "nbformat_minor": 5
}
