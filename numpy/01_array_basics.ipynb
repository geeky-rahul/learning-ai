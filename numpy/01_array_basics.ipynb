{
 "cells": [
  {
   "cell_type": "markdown",
   "id": "3f27b5fd",
   "metadata": {},
   "source": [
    "## Numpy Arrays"
   ]
  },
  {
   "cell_type": "code",
   "execution_count": 3,
   "id": "0e298435",
   "metadata": {},
   "outputs": [],
   "source": [
    "import numpy as np"
   ]
  },
  {
   "cell_type": "markdown",
   "id": "784410ea",
   "metadata": {},
   "source": [
    "#### Creating Array from List"
   ]
  },
  {
   "cell_type": "code",
   "execution_count": 5,
   "id": "e7e4f0af",
   "metadata": {},
   "outputs": [
    {
     "name": "stdout",
     "output_type": "stream",
     "text": [
      "1D Array:  [1 2 3 4 5]\n",
      "2D Array:  [[1 2 3]\n",
      " [4 3 5]]\n"
     ]
    }
   ],
   "source": [
    "arr_1D = np.array([1,2,3,4,5])\n",
    "print(\"1D Array: \", arr_1D)\n",
    "\n",
    "arr_2D = np.array([[1,2,3],[4,3,5]])\n",
    "print(\"2D Array: \", arr_2D)"
   ]
  },
  {
   "cell_type": "markdown",
   "id": "0b96fb88",
   "metadata": {},
   "source": [
    "### List vs Numpy Array"
   ]
  },
  {
   "cell_type": "code",
   "execution_count": 9,
   "id": "276299ef",
   "metadata": {},
   "outputs": [
    {
     "name": "stdout",
     "output_type": "stream",
     "text": [
      "python list multiplication:  [1, 2, 3, 1, 2, 3]\n",
      "python list multiplication:  [2 4 6]\n",
      "\n",
      " List operation time:  0.19695568084716797\n",
      "\n",
      " Numpy operation time:  0.05748248100280762\n"
     ]
    }
   ],
   "source": [
    "py_list = [1,2,3] # element wise multiplication\n",
    "print(\"python list multiplication: \", py_list*2)\n",
    "\n",
    "np_array = np.array([1,2,3])\n",
    "print(\"python list multiplication: \", np_array*2)\n",
    "\n",
    "import time\n",
    "start = time.time()\n",
    "py_list = [i*2 for i in range(100000)]\n",
    "print(\"\\n List operation time: \", time.time()-start)\n",
    "\n",
    "start = time.time()\n",
    "np_array = np.arange(100000)\n",
    "print(\"\\n Numpy operation time: \", time.time()-start)"
   ]
  },
  {
   "cell_type": "markdown",
   "id": "db2d1953",
   "metadata": {},
   "source": [
    "### Creating array from scratch"
   ]
  },
  {
   "cell_type": "code",
   "execution_count": 15,
   "id": "5d2bc4ed",
   "metadata": {},
   "outputs": [
    {
     "name": "stdout",
     "output_type": "stream",
     "text": [
      "zeros array: \n",
      " [[0. 0. 0. 0.]\n",
      " [0. 0. 0. 0.]\n",
      " [0. 0. 0. 0.]]\n",
      "ones array: \n",
      " [[1. 1. 1.]\n",
      " [1. 1. 1.]]\n",
      "full array: \n",
      " [[7 7]\n",
      " [7 7]]\n",
      "Random array: \n",
      " [[0.88412789 0.55140109 0.64759391]\n",
      " [0.57358458 0.10652128 0.33584401]]\n",
      "Sequence array: \n",
      " [0 2 4 6 8]\n"
     ]
    }
   ],
   "source": [
    "zeros = np.zeros((3,4))\n",
    "print(\"zeros array: \\n\", zeros)\n",
    "\n",
    "ones =  np.ones((2,3))\n",
    "print(\"ones array: \\n\", ones)\n",
    "\n",
    "full = np.full((2,2),7)\n",
    "print(\"full array: \\n\", full)\n",
    "\n",
    "random = np.random.random((2,3))\n",
    "print(\"Random array: \\n\", random)\n",
    "\n",
    "sequence = np.arange(0,10,2)\n",
    "print(\"Sequence array: \\n\", sequence)"
   ]
  },
  {
   "cell_type": "markdown",
   "id": "9cc85e72",
   "metadata": {},
   "source": [
    "### Vector, Matrix and Tensor"
   ]
  },
  {
   "cell_type": "code",
   "execution_count": 17,
   "id": "6ed43d8f",
   "metadata": {},
   "outputs": [
    {
     "name": "stdout",
     "output_type": "stream",
     "text": [
      "Vector: \n",
      " [1 2 3]\n",
      "Matrix: \n",
      " [[1 2 3]\n",
      " [4 5 6]]\n",
      "Tensor: \n",
      " [[[1 2]\n",
      "  [3 4]]\n",
      "\n",
      " [[5 6]\n",
      "  [7 8]]]\n"
     ]
    }
   ],
   "source": [
    "vector = np.array([1,2,3])\n",
    "print(\"Vector: \\n\",vector)\n",
    "\n",
    "matrix = np.array([[1,2,3],\n",
    "                   [4,5,6]])\n",
    "print(\"Matrix: \\n\",matrix)\n",
    "\n",
    "tensor = np.array([[[1,2],[3,4]],\n",
    "                   [[5,6],[7,8]]])\n",
    "print(\"Tensor: \\n\",tensor)"
   ]
  },
  {
   "cell_type": "markdown",
   "id": "1c2193ca",
   "metadata": {},
   "source": [
    "### Properties of Array"
   ]
  },
  {
   "cell_type": "code",
   "execution_count": 25,
   "id": "820a0d33",
   "metadata": {},
   "outputs": [
    {
     "name": "stdout",
     "output_type": "stream",
     "text": [
      "Array: \n",
      " [[1 2 3]\n",
      " [4 5 6]]\n",
      "Shape:  (2, 3)\n",
      "Dimension:  2\n",
      "Size:  6\n",
      "Data Type:  int64\n",
      "Transpose Matrix: \n",
      " [[1 4]\n",
      " [2 5]\n",
      " [3 6]]\n"
     ]
    }
   ],
   "source": [
    "arr = np.array([[1,2,3],\n",
    "                [4,5,6]])\n",
    "print(\"Array: \\n\", arr)\n",
    "print(\"Shape: \", arr.shape)\n",
    "print(\"Dimension: \", arr.ndim)\n",
    "print(\"Size: \", arr.size)\n",
    "print(\"Data Type: \", arr.dtype)\n",
    "print(\"Transpose Matrix: \\n\", arr.T)"
   ]
  },
  {
   "cell_type": "markdown",
   "id": "e036c3a7",
   "metadata": {},
   "source": [
    "### Array Reshaping"
   ]
  },
  {
   "cell_type": "code",
   "execution_count": null,
   "id": "a76b0c71",
   "metadata": {},
   "outputs": [
    {
     "name": "stdout",
     "output_type": "stream",
     "text": [
      "Orginal Array:  [ 0  1  2  3  4  5  6  7  8  9 10 11]\n",
      "\n",
      " Reshaped Array:  [[ 0  1  2  3]\n",
      " [ 4  5  6  7]\n",
      " [ 8  9 10 11]]\n",
      "\n",
      " Flattend Array:  [ 0  1  2  3  4  5  6  7  8  9 10 11]\n",
      "\n",
      " Raveled Array:  [ 0  1  2  3  4  5  6  7  8  9 10 11]\n"
     ]
    }
   ],
   "source": [
    "arr =  np.arange(12)\n",
    "print(\"Orginal Array: \", arr)\n",
    "\n",
    "reshaped = arr.reshape((3,4))\n",
    "print(\"\\n Reshaped Array: \", reshaped)\n",
    "\n",
    "# returns copy \n",
    "flattend = reshaped.flatten()\n",
    "print(\"\\n Flattend Array: \", flattend)\n",
    "\n",
    "# ravel (returns view means return original array, instead of copy)\n",
    "raveled = reshaped.ravel()\n",
    "print(\"\\n Raveled Array: \", raveled)\n"
   ]
  }
 ],
 "metadata": {
  "kernelspec": {
   "display_name": ".venv",
   "language": "python",
   "name": "python3"
  },
  "language_info": {
   "codemirror_mode": {
    "name": "ipython",
    "version": 3
   },
   "file_extension": ".py",
   "mimetype": "text/x-python",
   "name": "python",
   "nbconvert_exporter": "python",
   "pygments_lexer": "ipython3",
   "version": "3.13.5"
  }
 },
 "nbformat": 4,
 "nbformat_minor": 5
}
